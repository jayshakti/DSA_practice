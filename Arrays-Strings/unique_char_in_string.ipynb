{
 "cells": [
  {
   "cell_type": "code",
   "execution_count": 38,
   "metadata": {},
   "outputs": [
    {
     "data": {
      "text/plain": [
       "False"
      ]
     },
     "execution_count": 38,
     "metadata": {},
     "output_type": "execute_result"
    }
   ],
   "source": [
    "def unique_char(s):\n",
    "    L=len(s)\n",
    "    \n",
    "    # If string contains only 1 or 0 chars then its unique bydefault.\n",
    "    if L<2:\n",
    "        return True\n",
    "    \n",
    "    # Creating a HASH table to store the freq. of all the chars.\n",
    "    d={}\n",
    "    for e in s:\n",
    "        if e not in d:\n",
    "            d[e]=1\n",
    "        else:\n",
    "            d[e]+=1\n",
    "            \n",
    "    # Cheaking if the frequency is greater than 1(one).\n",
    "    for i in d.values():\n",
    "        if i!=1:\n",
    "            return False\n",
    "        \n",
    "    # Returning True only if we have not returned False.\n",
    "    return True\n",
    "\n",
    "# Driver code here::::\n",
    "unique_char(\"aaasd\")"
   ]
  }
 ],
 "metadata": {
  "kernelspec": {
   "display_name": "Python 3",
   "language": "python",
   "name": "python3"
  },
  "language_info": {
   "codemirror_mode": {
    "name": "ipython",
    "version": 3
   },
   "file_extension": ".py",
   "mimetype": "text/x-python",
   "name": "python",
   "nbconvert_exporter": "python",
   "pygments_lexer": "ipython3",
   "version": "3.7.6"
  }
 },
 "nbformat": 4,
 "nbformat_minor": 4
}
