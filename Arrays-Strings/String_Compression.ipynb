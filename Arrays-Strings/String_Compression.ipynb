{
 "cells": [
  {
   "cell_type": "code",
   "execution_count": 10,
   "metadata": {},
   "outputs": [
    {
     "name": "stdout",
     "output_type": "stream",
     "text": [
      "Please enter a string:aaaaAAABB\n",
      "Output:a4A3B2\n"
     ]
    }
   ],
   "source": [
    "# it counts the number of occurence of a \n",
    "# character in a string.\n",
    "def string_comp(s):\n",
    "    L=len(s)\n",
    "    if L==0: return 0\n",
    "    if L==1: return s+\"1\"\n",
    "    \n",
    "    result=''\n",
    "    count=1\n",
    "    last=s[0]\n",
    "    for i in range(1,L):\n",
    "        if s[i]==s[i-1]:\n",
    "            count+=1\n",
    "        else:\n",
    "            result += s[i-1]+ str(count)\n",
    "            count=1  # resetting the counter\n",
    "    result += s[i]+ str(count)\n",
    "    return result\n",
    "\n",
    "# Driver Code here:::::\n",
    "'''\n",
    "Input be like this:\n",
    "1. AAABBBBCCCC (right)\n",
    "2. AAaaBBBbCCC (right)\n",
    "3. aasssFF (right)\n",
    "4. ABAB (wronge)\n",
    "''' \n",
    "while True:\n",
    "    try:\n",
    "        s=input(\"Please enter a string:\")\n",
    "        if type(int(s))==int:\n",
    "            print(\"You entered a number.\")\n",
    "            continue\n",
    "    except:\n",
    "        print(\"Output:\"+string_comp(s))\n",
    "        break\n",
    "\n"
   ]
  }
 ],
 "metadata": {
  "kernelspec": {
   "display_name": "Python 3",
   "language": "python",
   "name": "python3"
  },
  "language_info": {
   "codemirror_mode": {
    "name": "ipython",
    "version": 3
   },
   "file_extension": ".py",
   "mimetype": "text/x-python",
   "name": "python",
   "nbconvert_exporter": "python",
   "pygments_lexer": "ipython3",
   "version": "3.7.6"
  }
 },
 "nbformat": 4,
 "nbformat_minor": 4
}
